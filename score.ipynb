{
 "cells": [
  {
   "cell_type": "code",
   "execution_count": 1,
   "metadata": {},
   "outputs": [
    {
     "name": "stderr",
     "output_type": "stream",
     "text": [
      "Matplotlib created a temporary cache directory at /var/folders/19/z43k9_0d3859509_dksqnd7w0000gn/T/matplotlib-5hl0at_3 because the default path (/Users/ericzhang/.matplotlib) is not a writable directory; it is highly recommended to set the MPLCONFIGDIR environment variable to a writable directory, in particular to speed up the import of Matplotlib and to better support multiprocessing.\n"
     ]
    }
   ],
   "source": [
    "# Imports\n",
    "import matplotlib.pyplot as plt\n",
    "import numpy as np\n",
    "import pandas as pd\n",
    "import statistics as st\n",
    "import math"
   ]
  },
  {
   "cell_type": "code",
   "execution_count": 2,
   "metadata": {},
   "outputs": [],
   "source": [
    "# Load Results\n",
    "df = pd.read_csv('./Experiments/10,000_Trials_#1/stats.csv', sep=',', header=0)"
   ]
  },
  {
   "cell_type": "code",
   "execution_count": 7,
   "metadata": {},
   "outputs": [],
   "source": [
    "# Scoring function\n",
    "def get_score(target):\n",
    "    accuracy_reciprocal_sum = sum(df[f'{target} - accuracy'].rdiv(1))\n",
    "    precision_reciprocal_sum = sum(df[f'{target} - precision'].rdiv(1))\n",
    "    trials_num = len(df)\n",
    "    accuracy_sum = sum(df[f'{target} - accuracy'])\n",
    "    time_to_fit_ms = st.mean(df[f'{target} - time to fit']/1000000)\n",
    "\n",
    "    score = 0.14 * (trials_num / (precision_reciprocal_sum)) + 0.85 * (accuracy_sum / trials_num) - (0.01 * math.log(time_to_fit_ms, 12))\n",
    "    return score "
   ]
  },
  {
   "cell_type": "code",
   "execution_count": 10,
   "metadata": {},
   "outputs": [
    {
     "name": "stdout",
     "output_type": "stream",
     "text": [
      "1. GaussianNB: 0.9898664646229245\n",
      "2. DecisionTree: 0.9897728590165427\n",
      "3. AdaBoost: 0.9878178755953072\n",
      "4. Bagging: 0.9809914168566755\n",
      "5. PassiveAggressive: 0.9807726125247448\n",
      "6. CatBoost: 0.9783772462694391\n",
      "7. GradientBoosting: 0.9767888262430073\n",
      "8. SVC: 0.9760720211712683\n",
      "9. XGB: 0.9754707915051002\n",
      "10. QDA: 0.9725719326440863\n",
      "11. ExtraTrees: 0.9725446454339217\n",
      "12. LGBM: 0.9707791620813562\n",
      "13. Ridge: 0.9697297719786714\n",
      "14. HistGradientBoosting: 0.9685531574895393\n",
      "15. MLP: 0.9603703464276631\n",
      "16. KNeighbors: 0.9370577006744899\n",
      "17. RandomForest: 0.8244503509071608\n",
      "18. Dummy: 0.7530286686087452\n",
      "19. SGDOneClassSVM: 0.6204886928988445\n"
     ]
    }
   ],
   "source": [
    "# Rank all of the models by score\n",
    "models = ['SVC', 'GradientBoosting', 'GaussianNB', 'DecisionTree', 'KNeighbors', 'AdaBoost', 'RandomForest', 'MLP', 'QDA', 'CatBoost', 'ExtraTrees', 'Bagging', 'Ridge', 'PassiveAggressive', 'SGDOneClassSVM', 'Dummy', 'HistGradientBoosting', 'LGBM', 'XGB']\n",
    "all_scores = {}\n",
    "for model in models:\n",
    "    all_scores.update({model: get_score('cath - ' + model)})\n",
    "\n",
    "all_scores_sorted = dict(sorted(all_scores.items(), key=lambda item: item[1], reverse=True))\n",
    "for index, (key, value) in enumerate(all_scores_sorted.items()):\n",
    "    print(f'{index + 1}. {key}: {value}')"
   ]
  }
 ],
 "metadata": {
  "kernelspec": {
   "display_name": "env",
   "language": "python",
   "name": "python3"
  },
  "language_info": {
   "codemirror_mode": {
    "name": "ipython",
    "version": 3
   },
   "file_extension": ".py",
   "mimetype": "text/x-python",
   "name": "python",
   "nbconvert_exporter": "python",
   "pygments_lexer": "ipython3",
   "version": "3.11.4"
  }
 },
 "nbformat": 4,
 "nbformat_minor": 2
}
