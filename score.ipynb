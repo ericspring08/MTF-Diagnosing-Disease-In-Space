{
 "cells": [
  {
   "cell_type": "code",
   "execution_count": 29,
   "metadata": {},
   "outputs": [],
   "source": [
    "import matplotlib.pyplot as plt\n",
    "import numpy as np\n",
    "import pandas as pd\n",
    "import statistics as st\n",
    "import math"
   ]
  },
  {
   "cell_type": "code",
   "execution_count": 11,
   "metadata": {},
   "outputs": [],
   "source": [
    "df = pd.read_csv('./Experiments/10,000_Trials_#1/stats.csv', sep=',', header=0)"
   ]
  },
  {
   "cell_type": "code",
   "execution_count": 49,
   "metadata": {},
   "outputs": [],
   "source": [
    "def get_score(target):\n",
    "    accuracy_reciprocal_sum = sum(df[f'{target} - accuracy'].rdiv(1))\n",
    "    precision_reciprocal_sum = sum(df[f'{target} - precision'].rdiv(1))\n",
    "    trials_num = len(df)\n",
    "    accuracy_sum = sum(df[f'{target} - accuracy'])\n",
    "    time_to_fit_ms = st.mean(df[f'{target} - time to fit']/1000000)\n",
    "\n",
    "    score = 0.14 * (trials_num / (precision_reciprocal_sum)) + 0.85 * (accuracy_sum / trials_num) - (0.01 * math.log(time_to_fit_ms, 12))\n",
    "    print(f'{target}: {score}')"
   ]
  },
  {
   "cell_type": "code",
   "execution_count": 50,
   "metadata": {},
   "outputs": [
    {
     "name": "stdout",
     "output_type": "stream",
     "text": [
      "cath - SVC: 0.9760720211712683\n",
      "cath - GradientBoosting: 0.9767888262430073\n",
      "cath - GaussianNB: 0.9898664646229245\n",
      "cath - MLP: 0.9603703464276631\n",
      "cath - LGBM: 0.9707791620813562\n"
     ]
    }
   ],
   "source": [
    "models = ['SVC', 'GradientBoosting', 'GaussianNB', 'MLP', 'LGBM']\n",
    "for model in models:\n",
    "    get_score('cath - ' + model)"
   ]
  }
 ],
 "metadata": {
  "kernelspec": {
   "display_name": "env",
   "language": "python",
   "name": "python3"
  },
  "language_info": {
   "codemirror_mode": {
    "name": "ipython",
    "version": 3
   },
   "file_extension": ".py",
   "mimetype": "text/x-python",
   "name": "python",
   "nbconvert_exporter": "python",
   "pygments_lexer": "ipython3",
   "version": "3.11.4"
  }
 },
 "nbformat": 4,
 "nbformat_minor": 2
}
