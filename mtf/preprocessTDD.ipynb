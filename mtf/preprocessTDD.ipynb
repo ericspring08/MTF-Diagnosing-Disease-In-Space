{
 "cells": [
  {
   "cell_type": "code",
   "execution_count": 2,
   "metadata": {},
   "outputs": [],
   "source": [
    "import pandas as pd\n",
    "import numpy as np"
   ]
  },
  {
   "cell_type": "code",
   "execution_count": 3,
   "metadata": {},
   "outputs": [],
   "source": [
    "# Read in the data\n",
    "df = pd.read_csv('./data/TDF.csv')"
   ]
  },
  {
   "cell_type": "code",
   "execution_count": 4,
   "metadata": {},
   "outputs": [],
   "source": [
    "# remove all rows with with a value longer than 1 length on target column\n",
    "df = df[df['target'].map(len) == 1]\n",
    "\n",
    "# convert all rows target value to - if it is between letters I and T\n",
    "df['target'] = df['target'].apply(lambda x: '-' if 'I' <= x <= 'T' else x)\n",
    "\n",
    "# remove columns pregnant, lithium, psych, referral_source, patient_id\n",
    "df = df.drop(['pregnant', 'lithium', 'psych', 'referral_source', 'patient_id'], axis=1)\n",
    "\n",
    "# remove all columns that have -measured\n",
    "df = df.drop(df.filter(regex='_measured').columns, axis=1)\n",
    "\n",
    "# save the data\n",
    "df.to_csv('./data/TDF_clean.csv', index=False)"
   ]
  }
 ],
 "metadata": {
  "kernelspec": {
   "display_name": "env",
   "language": "python",
   "name": "python3"
  },
  "language_info": {
   "codemirror_mode": {
    "name": "ipython",
    "version": 3
   },
   "file_extension": ".py",
   "mimetype": "text/x-python",
   "name": "python",
   "nbconvert_exporter": "python",
   "pygments_lexer": "ipython3",
   "version": "3.11.5"
  }
 },
 "nbformat": 4,
 "nbformat_minor": 2
}
